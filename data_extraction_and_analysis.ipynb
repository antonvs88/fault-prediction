{
 "cells": [
  {
   "cell_type": "code",
   "execution_count": 1,
   "metadata": {},
   "outputs": [],
   "source": [
    "# A component is replaced after the average lifetime. However, since the lifetime estimate of a component is\n",
    "# always on the low side in order to minimize the number of failures, this often leads to unnecessary component\n",
    "# replacement and a waste of money. These problems can be overcome by the utilization of condition monitoring\n",
    "# systems (CMSs), which can be more beneficial than corrective and preventive maintenance since they allow early\n",
    "# warnings of mechanical and electrical defects to prevent major component failures."
   ]
  },
  {
   "cell_type": "code",
   "execution_count": 2,
   "metadata": {},
   "outputs": [],
   "source": [
    "import pandas as pd\n",
    "import os\n",
    "from datetime import datetime\n",
    "import matplotlib.pyplot as plt\n",
    "import numpy as np\n",
    "import sys\n",
    "import seaborn as sns\n",
    "import scipy.stats as stats\n",
    "\n",
    "import statsmodels.api as sm\n",
    "\n",
    "import torch"
   ]
  },
  {
   "cell_type": "code",
   "execution_count": 3,
   "metadata": {},
   "outputs": [
    {
     "data": {
      "text/plain": [
       "'/u/51/avonscha/data/Desktop/Houston Analytics Pre-Assignment with data_English 3/Houston Analytics Pre-Assignment with data_English 3'"
      ]
     },
     "execution_count": 3,
     "metadata": {},
     "output_type": "execute_result"
    }
   ],
   "source": [
    "cwd = os.getcwd()\n",
    "cwd"
   ]
  },
  {
   "cell_type": "code",
   "execution_count": 4,
   "metadata": {},
   "outputs": [
    {
     "data": {
      "text/plain": [
       "['sensor_timeseries.pdf',\n",
       " 'Component_changes.csv',\n",
       " 'hourly_data.pdf',\n",
       " 'component_changes_interpolated.pdf',\n",
       " 'Shutdowns.csv',\n",
       " 'all_data.pdf',\n",
       " 'sensor_timeseries_without_shutdowns.pdf',\n",
       " 'Sensor_measurements.csv',\n",
       " 'component_changes.pdf',\n",
       " 'Histogrammit.ipynb',\n",
       " 'test_script.ipynb',\n",
       " '.ipynb_checkpoints',\n",
       " 'Houston Analytics Pre-assignment_english.pdf']"
      ]
     },
     "execution_count": 4,
     "metadata": {},
     "output_type": "execute_result"
    }
   ],
   "source": [
    "os.listdir(cwd) # returns list"
   ]
  },
  {
   "cell_type": "markdown",
   "metadata": {},
   "source": [
    "# 1) Import sensor measurements"
   ]
  },
  {
   "cell_type": "code",
   "execution_count": 5,
   "metadata": {},
   "outputs": [],
   "source": [
    "sensor_measurements = pd.read_csv('Sensor_measurements.csv', sep=';')\n",
    "#sensor_measurements.head(5)"
   ]
  },
  {
   "cell_type": "code",
   "execution_count": 6,
   "metadata": {},
   "outputs": [],
   "source": [
    "sensor_measurements = sensor_measurements.groupby(['sensor_name','meas_dttm', 'value'])['sensor_name'].agg(['count']).reset_index()"
   ]
  },
  {
   "cell_type": "code",
   "execution_count": 7,
   "metadata": {},
   "outputs": [],
   "source": [
    "sensor_measurements = sensor_measurements.pivot_table(values='value', columns='sensor_name', index='meas_dttm')"
   ]
  },
  {
   "cell_type": "code",
   "execution_count": 8,
   "metadata": {},
   "outputs": [],
   "source": [
    "sensor_measurements.index = pd.to_datetime(sensor_measurements.index)\n",
    "sensor_measurements.index.names = ['Date']\n",
    "#sensor_measurements.head(3)\n",
    "#Order Sensor data columns"
   ]
  },
  {
   "cell_type": "markdown",
   "metadata": {},
   "source": [
    "#### Plot sensor time series"
   ]
  },
  {
   "cell_type": "raw",
   "metadata": {},
   "source": [
    "# Check nan values\n",
    "# how many measurements per sensor? Leave Sensor35 and 36 out?\n",
    "#sensor_measurements.isna().sum()\n",
    "#sensor_measurements.Sensor1\n",
    "#sensor_measurements.Sensor1.isna()\n",
    "fig, ax = plt.subplots(len(sensor_measurements.columns), sharex=False)\n",
    "plt.subplots_adjust(left=None, bottom=None, right=None, top=None, wspace=None, hspace=0.5)\n",
    "for i in range(0, len(sensor_measurements.columns)):\n",
    "    sensor_measurements.plot(y=sensor_measurements.columns[i], figsize=(15,150), ax=ax[i])\n",
    "plt.savefig('sensor_timeseries.pdf')"
   ]
  },
  {
   "cell_type": "markdown",
   "metadata": {},
   "source": [
    "# 2) Remove shutdowns"
   ]
  },
  {
   "cell_type": "code",
   "execution_count": 9,
   "metadata": {},
   "outputs": [],
   "source": [
    "shutdowns = pd.read_csv('Shutdowns.csv', sep=';')\n",
    "shutdowns.index = pd.to_datetime(shutdowns.shutdown_start_dttm)\n",
    "#idx = pd.period_range(min(df2.index), max(df2.index), freq)\n",
    "#shutdowns.reindex(idx, fill_value=0)"
   ]
  },
  {
   "cell_type": "code",
   "execution_count": 10,
   "metadata": {
    "scrolled": true
   },
   "outputs": [],
   "source": [
    "shutdowns[\"shutdown_start_dttm\"] = pd.to_datetime(shutdowns[\"shutdown_start_dttm\"])\n",
    "shutdowns[\"shutdown_end_dttm\"] = pd.to_datetime(shutdowns[\"shutdown_end_dttm\"])\n",
    "#shutdowns[\"duration\"] = (shutdowns.shutdown_end_dttm-shutdowns.shutdown_start_dttm).astype('timedelta64[m]')\n",
    "#shutdowns.head(3)\n",
    "#len(shutdowns.shutdown_start_dttm)"
   ]
  },
  {
   "cell_type": "code",
   "execution_count": 11,
   "metadata": {},
   "outputs": [],
   "source": [
    "mask = ((sensor_measurements.index >= shutdowns.shutdown_start_dttm[0]) & (sensor_measurements.index <= shutdowns.shutdown_end_dttm[0])) \n",
    "for i in range(1, len(shutdowns.shutdown_start_dttm)):\n",
    "    mask |= ((sensor_measurements.index >= shutdowns.shutdown_start_dttm[i]) & (sensor_measurements.index <= shutdowns.shutdown_end_dttm[i])) \n",
    "sensor_measurements.loc[mask, :] = np.nan\n",
    "#sensor_measurements.isna().sum()"
   ]
  },
  {
   "cell_type": "markdown",
   "metadata": {},
   "source": [
    "#### Plot sensor time series without shutdowns"
   ]
  },
  {
   "cell_type": "raw",
   "metadata": {},
   "source": [
    "# Check nan values\n",
    "# how many measurements per sensor? Leave Sensor35 and 36 out?\n",
    "#sensor_measurements.isna().sum()\n",
    "#sensor_measurements.Sensor1\n",
    "#sensor_measurements.Sensor1.isna()\n",
    "fig, ax = plt.subplots(len(sensor_measurements.columns), sharex=False)\n",
    "plt.subplots_adjust(left=None, bottom=None, right=None, top=None, wspace=None, hspace=0.5)\n",
    "for i in range(0, len(sensor_measurements.columns)):\n",
    "    sensor_measurements.plot(y=sensor_measurements.columns[i], figsize=(15,150), ax=ax[i])\n",
    "plt.savefig('sensor_timeseries_without_shutdowns.pdf')"
   ]
  },
  {
   "cell_type": "markdown",
   "metadata": {},
   "source": [
    "# 3) Create component changes dataframe"
   ]
  },
  {
   "cell_type": "code",
   "execution_count": 12,
   "metadata": {},
   "outputs": [],
   "source": [
    "component_changes = pd.read_csv('Component_changes.csv', sep=';')\n",
    "#component_changes.head(20)"
   ]
  },
  {
   "cell_type": "code",
   "execution_count": 13,
   "metadata": {},
   "outputs": [],
   "source": [
    "component_changes.index = pd.to_datetime(component_changes.installation_dttm)\n",
    "change_times = list(component_changes.installation_dttm.values)\n",
    "#change_times"
   ]
  },
  {
   "cell_type": "markdown",
   "metadata": {},
   "source": [
    "#### Plot sensor time series with component changes"
   ]
  },
  {
   "cell_type": "raw",
   "metadata": {},
   "source": [
    "fig, ax = plt.subplots(len(sensor_measurements.columns), sharex=False)\n",
    "plt.subplots_adjust(left=None, bottom=None, right=None, top=None, wspace=None, hspace=0.5)\n",
    "for i in range(0, len(sensor_measurements.columns)):\n",
    "    sensor_measurements.plot(y=sensor_measurements.columns[i], figsize=(15,150), ax=ax[i])\n",
    "    \n",
    "    # Draw ticked lines at the important timestamps\n",
    "    hline0 = ax[i].axvline(x = change_times[0], linewidth=3, color='black',ls='--')\n",
    "    hline1 = ax[i].axvline(x = change_times[1], linewidth=3, color='black',ls='--')\n",
    "    hline2 = ax[i].axvline(x = change_times[2], linewidth=3, color='black',ls='--')\n",
    "    hline3 = ax[i].axvline(x = change_times[3], linewidth=3, color='black',ls='--')\n",
    "    hline4 = ax[i].axvline(x = change_times[4], linewidth=3, color='black',ls='--')\n",
    "    \n",
    "plt.savefig('component_changes.pdf')"
   ]
  },
  {
   "cell_type": "code",
   "execution_count": 14,
   "metadata": {},
   "outputs": [],
   "source": [
    "# Drop Sensors 35 and 36 since they do not seem to have data\n",
    "del sensor_measurements['Sensor35']\n",
    "del sensor_measurements['Sensor36']\n",
    "#sensor_measurements"
   ]
  },
  {
   "cell_type": "code",
   "execution_count": 15,
   "metadata": {},
   "outputs": [],
   "source": [
    "# Interpolate missing values\n",
    "# A better interpolation scheme could be used\n",
    "sensor_measurements = sensor_measurements.interpolate()"
   ]
  },
  {
   "cell_type": "code",
   "execution_count": 16,
   "metadata": {},
   "outputs": [
    {
     "data": {
      "text/plain": [
       "Index(['Sensor1', 'Sensor10', 'Sensor11', 'Sensor12', 'Sensor13', 'Sensor14',\n",
       "       'Sensor15', 'Sensor16', 'Sensor17', 'Sensor18', 'Sensor19', 'Sensor2',\n",
       "       'Sensor20', 'Sensor21', 'Sensor22', 'Sensor23', 'Sensor24', 'Sensor25',\n",
       "       'Sensor26', 'Sensor27', 'Sensor28', 'Sensor29', 'Sensor3', 'Sensor30',\n",
       "       'Sensor31', 'Sensor32', 'Sensor33', 'Sensor34', 'Sensor37', 'Sensor38',\n",
       "       'Sensor39', 'Sensor4', 'Sensor40', 'Sensor41', 'Sensor42', 'Sensor43',\n",
       "       'Sensor44', 'Sensor45', 'Sensor46', 'Sensor47', 'Sensor48', 'Sensor49',\n",
       "       'Sensor5', 'Sensor50', 'Sensor51', 'Sensor52', 'Sensor53', 'Sensor6',\n",
       "       'Sensor7', 'Sensor8', 'Sensor9'],\n",
       "      dtype='object', name='sensor_name')"
      ]
     },
     "execution_count": 16,
     "metadata": {},
     "output_type": "execute_result"
    }
   ],
   "source": [
    "sensor_measurements.columns"
   ]
  },
  {
   "cell_type": "raw",
   "metadata": {},
   "source": [
    "#sensor_measurements.isna().sum()\n",
    "fig, ax = plt.subplots(len(sensor_measurements.columns), sharex=False)\n",
    "plt.subplots_adjust(left=None, bottom=None, right=None, top=None, wspace=None, hspace=0.5)\n",
    "for i in range(0, len(sensor_measurements.columns)):\n",
    "\n",
    "        sensor_measurements.plot(y=sensor_measurements.columns[i], figsize=(15,150), ax=ax[i])\n",
    "    \n",
    "        # Draw ticked lines at the important timestamps\n",
    "        hline0 = ax[i].axvline(x = change_times[0], linewidth=3, color='black',ls='--')\n",
    "        hline1 = ax[i].axvline(x = change_times[1], linewidth=3, color='black',ls='--')\n",
    "        hline2 = ax[i].axvline(x = change_times[2], linewidth=3, color='black',ls='--')\n",
    "        hline3 = ax[i].axvline(x = change_times[3], linewidth=3, color='black',ls='--')\n",
    "        hline4 = ax[i].axvline(x = change_times[4], linewidth=3, color='black',ls='--')\n",
    "    \n",
    "plt.savefig('component_changes_interpolated.pdf')"
   ]
  },
  {
   "cell_type": "markdown",
   "metadata": {},
   "source": [
    "# 4) Create masterfile"
   ]
  },
  {
   "cell_type": "code",
   "execution_count": 17,
   "metadata": {},
   "outputs": [],
   "source": [
    "#### Before doing hourly averages calculate Pearson correlations"
   ]
  },
  {
   "cell_type": "code",
   "execution_count": null,
   "metadata": {},
   "outputs": [],
   "source": []
  },
  {
   "cell_type": "code",
   "execution_count": null,
   "metadata": {},
   "outputs": [],
   "source": []
  },
  {
   "cell_type": "code",
   "execution_count": null,
   "metadata": {},
   "outputs": [],
   "source": []
  },
  {
   "cell_type": "markdown",
   "metadata": {},
   "source": [
    "#### Average to hourly data"
   ]
  },
  {
   "cell_type": "code",
   "execution_count": 18,
   "metadata": {},
   "outputs": [],
   "source": [
    "hourly_averages = sensor_measurements.resample('H').mean()"
   ]
  },
  {
   "cell_type": "raw",
   "metadata": {},
   "source": [
    "fig, ax = plt.subplots(len(hourly_averages.columns), sharex=False)\n",
    "plt.subplots_adjust(left=None, bottom=None, right=None, top=None, wspace=None, hspace=0.5)\n",
    "for i in range(0, len(hourly_averages.columns)):\n",
    "\n",
    "        hourly_averages.plot(y=hourly_averages.columns[i], figsize=(15,150), ax=ax[i])\n",
    "    \n",
    "        # Draw ticked lines at the important timestamps\n",
    "        hline0 = ax[i].axvline(x = change_times[0], linewidth=3, color='black',ls='--')\n",
    "        hline1 = ax[i].axvline(x = change_times[1], linewidth=3, color='black',ls='--')\n",
    "        hline2 = ax[i].axvline(x = change_times[2], linewidth=3, color='black',ls='--')\n",
    "        hline3 = ax[i].axvline(x = change_times[3], linewidth=3, color='black',ls='--')\n",
    "        hline4 = ax[i].axvline(x = change_times[4], linewidth=3, color='black',ls='--')\n",
    "    \n",
    "plt.savefig('hourly_data.pdf')"
   ]
  },
  {
   "cell_type": "code",
   "execution_count": 19,
   "metadata": {},
   "outputs": [],
   "source": [
    "#idx = pd.period_range(min(component_changes.installation_dttm), max(component_changes.installation_dttm), freq='H')\n",
    "idx = pd.period_range(min(hourly_averages.index), max(hourly_averages.index), freq='H')"
   ]
  },
  {
   "cell_type": "code",
   "execution_count": 20,
   "metadata": {},
   "outputs": [],
   "source": [
    "new_component_changes = component_changes.reindex(idx, fill_value=0)\n",
    "new_component_changes['lifetime'] = 0\n",
    "del new_component_changes['installation_dttm']\n",
    "del new_component_changes['supplier']\n",
    "del new_component_changes['sub_machine']\n",
    "del new_component_changes['component_id']\n",
    "#new_component_changes"
   ]
  },
  {
   "cell_type": "code",
   "execution_count": 21,
   "metadata": {},
   "outputs": [],
   "source": [
    "j = 0\n",
    "for i in range(0,new_component_changes.size):\n",
    "    a=new_component_changes.index[i]\n",
    "    if any(a.strftime('%Y-%m-%d %H:%M:%S') == c for c in change_times):\n",
    "        j = 0\n",
    "    new_component_changes.at[a, 'lifetime'] = j\n",
    "    j += 1\n",
    "#new_component_changes"
   ]
  },
  {
   "cell_type": "code",
   "execution_count": 22,
   "metadata": {},
   "outputs": [],
   "source": [
    "new_component_changes.index.names = ['Date']\n",
    "new_component_changes.index = new_component_changes.index.astype('datetime64[ns]') \n",
    "#new_component_changes"
   ]
  },
  {
   "cell_type": "markdown",
   "metadata": {},
   "source": [
    "#### Concatenate sensor measurements and component changes"
   ]
  },
  {
   "cell_type": "code",
   "execution_count": 23,
   "metadata": {},
   "outputs": [],
   "source": [
    "combined_df = new_component_changes.combine_first(hourly_averages)\n",
    "#combined_df"
   ]
  },
  {
   "cell_type": "raw",
   "metadata": {},
   "source": [
    "fig, ax = plt.subplots(len(combined_df.columns), sharex=False)\n",
    "plt.subplots_adjust(left=None, bottom=None, right=None, top=None, wspace=None, hspace=0.5)\n",
    "for i in range(0, len(combined_df.columns)):\n",
    "\n",
    "        combined_df.plot(y=combined_df.columns[i], figsize=(15,150), ax=ax[i])\n",
    "    \n",
    "        # Draw ticked lines at the important timestamps\n",
    "        hline0 = ax[i].axvline(x = change_times[0], linewidth=3, color='black',ls='--')\n",
    "        hline1 = ax[i].axvline(x = change_times[1], linewidth=3, color='black',ls='--')\n",
    "        hline2 = ax[i].axvline(x = change_times[2], linewidth=3, color='black',ls='--')\n",
    "        hline3 = ax[i].axvline(x = change_times[3], linewidth=3, color='black',ls='--')\n",
    "        hline4 = ax[i].axvline(x = change_times[4], linewidth=3, color='black',ls='--')\n",
    "    \n",
    "plt.savefig('all_data.pdf')"
   ]
  },
  {
   "cell_type": "markdown",
   "metadata": {},
   "source": [
    "# 5 Pearson correlation between component lifetime and sensor timeseries"
   ]
  },
  {
   "cell_type": "code",
   "execution_count": 24,
   "metadata": {},
   "outputs": [],
   "source": [
    "### interpolation and hourly averaging should be done before?"
   ]
  },
  {
   "cell_type": "code",
   "execution_count": 25,
   "metadata": {},
   "outputs": [],
   "source": [
    "### Sensor 42 best\n",
    "### Periodicity, seasonality should be accounted for...maybe outliers?"
   ]
  },
  {
   "cell_type": "code",
   "execution_count": 26,
   "metadata": {},
   "outputs": [
    {
     "name": "stdout",
     "output_type": "stream",
     "text": [
      "Sensor1\n",
      "Scipy computed Pearson r: -0.0875820788325429 and p-value: 0.0002937898107408707\n",
      "Sensor10\n",
      "Scipy computed Pearson r: -0.4938927044447331 and p-value: 1.5395609559680839e-105\n",
      "Sensor11\n",
      "Scipy computed Pearson r: 0.07908264918164461 and p-value: 0.0010824251800862425\n",
      "Sensor12\n",
      "Scipy computed Pearson r: -0.13255938631550668 and p-value: 3.932836179203932e-08\n",
      "Sensor13\n",
      "Scipy computed Pearson r: 0.35867856734479897 and p-value: 6.364301423403225e-53\n",
      "Sensor14\n",
      "Scipy computed Pearson r: 0.23279147993555893 and p-value: 2.047643356327464e-22\n",
      "Sensor15\n",
      "Scipy computed Pearson r: 0.15550552948108012 and p-value: 1.0773499436352409e-10\n",
      "Sensor16\n",
      "Scipy computed Pearson r: 0.10030292970847068 and p-value: 3.337812165626919e-05\n",
      "Sensor17\n",
      "Scipy computed Pearson r: -0.1286661633547852 and p-value: 9.7612133092028e-08\n",
      "Sensor18\n",
      "Scipy computed Pearson r: 0.22077796172108213 and p-value: 2.8717396934009885e-20\n",
      "Sensor19\n",
      "Scipy computed Pearson r: 0.19903387673510298 and p-value: 1.080940496308987e-16\n",
      "Sensor2\n",
      "Scipy computed Pearson r: -0.1976399181234998 and p-value: 1.7767363094845922e-16\n",
      "Sensor20\n",
      "Scipy computed Pearson r: -0.02521901566287541 and p-value: 0.2979978701138044\n",
      "Sensor21\n",
      "Scipy computed Pearson r: -0.3172300697305709 and p-value: 3.623851388118779e-41\n",
      "Sensor22\n",
      "Scipy computed Pearson r: -0.35096645638563695 and p-value: 1.344400450971042e-50\n",
      "Sensor23\n",
      "Scipy computed Pearson r: -0.45955215856405807 and p-value: 7.867617815182987e-90\n",
      "Sensor24\n",
      "Scipy computed Pearson r: 0.3058146351566532 and p-value: 3.075025981717229e-38\n",
      "Sensor25\n",
      "Scipy computed Pearson r: -0.3620424970685767 and p-value: 5.879725782590699e-54\n",
      "Sensor26\n",
      "Scipy computed Pearson r: 0.35537173012506024 and p-value: 6.43424938687989e-52\n",
      "Sensor27\n",
      "Scipy computed Pearson r: 0.44861997306679624 and p-value: 3.401478646561308e-85\n",
      "Sensor28\n",
      "Scipy computed Pearson r: -0.0006893366145696812 and p-value: 0.9773088516432974\n",
      "Sensor29\n",
      "Scipy computed Pearson r: 0.36772495783875603 and p-value: 9.853227358665732e-56\n",
      "Sensor3\n",
      "Scipy computed Pearson r: 0.21383385284743295 and p-value: 4.396297282704387e-19\n",
      "Sensor30\n",
      "Scipy computed Pearson r: -0.030994183392118433 and p-value: 0.2008373537059007\n",
      "Sensor31\n",
      "Scipy computed Pearson r: -0.038844731161523156 and p-value: 0.10884820404184677\n",
      "Sensor32\n",
      "Scipy computed Pearson r: 0.0808795669309196 and p-value: 0.0008297398951164943\n",
      "Sensor33\n",
      "Scipy computed Pearson r: 0.5012195347837956 and p-value: 3.959242689288942e-109\n",
      "Sensor34\n",
      "Scipy computed Pearson r: -0.27970779215793895 and p-value: 5.130315759364228e-32\n",
      "Sensor37\n",
      "Scipy computed Pearson r: -0.1453482566114246 and p-value: 1.6465996263994372e-09\n",
      "Sensor38\n",
      "Scipy computed Pearson r: 0.1155130082930736 and p-value: 1.7335240970596142e-06\n",
      "Sensor39\n",
      "Scipy computed Pearson r: -0.18121879868841834 and p-value: 4.7053447114861994e-14\n",
      "Sensor4\n",
      "Scipy computed Pearson r: 0.2756262561398195 and p-value: 4.213667048146667e-31\n",
      "Sensor40\n",
      "Scipy computed Pearson r: 0.18722739893744045 and p-value: 6.4777702877405536e-15\n",
      "Sensor41\n",
      "Scipy computed Pearson r: -0.05752299937452503 and p-value: 0.01752783400529015\n",
      "Sensor42\n",
      "Scipy computed Pearson r: 0.5762344440969691 and p-value: 1.9805048153612692e-151\n",
      "Sensor43\n",
      "Scipy computed Pearson r: 0.08313851225822844 and p-value: 0.0005895898611000497\n",
      "Sensor44\n",
      "Scipy computed Pearson r: 0.42387580911476785 and p-value: 2.623293085287258e-75\n",
      "Sensor45\n",
      "Scipy computed Pearson r: -0.1850782610162703 and p-value: 1.3267708572776581e-14\n",
      "Sensor46\n",
      "Scipy computed Pearson r: 0.4974430563724814 and p-value: 2.876158588233978e-107\n",
      "Sensor47\n",
      "Scipy computed Pearson r: 0.08861648336095743 and p-value: 0.00024865006200826343\n",
      "Sensor48\n",
      "Scipy computed Pearson r: 0.19854413422995498 and p-value: 1.2876828438822918e-16\n",
      "Sensor49\n",
      "Scipy computed Pearson r: 0.2922415634157383 and p-value: 6.369865324375371e-35\n",
      "Sensor5\n",
      "Scipy computed Pearson r: -0.21224776104161075 and p-value: 8.091655888859261e-19\n",
      "Sensor50\n",
      "Scipy computed Pearson r: -0.03810978039356448 and p-value: 0.1157111999286743\n",
      "Sensor51\n",
      "Scipy computed Pearson r: 0.11183493295535876 and p-value: 3.6745461140223544e-06\n",
      "Sensor52\n",
      "Scipy computed Pearson r: 0.3617070242645001 and p-value: 7.465743644223017e-54\n",
      "Sensor53\n",
      "Scipy computed Pearson r: 0.3557808742359885 and p-value: 4.8398347554690594e-52\n",
      "Sensor6\n",
      "Scipy computed Pearson r: 0.15499582280195826 and p-value: 1.2407729411664878e-10\n",
      "Sensor7\n",
      "Scipy computed Pearson r: 0.1887866213347319 and p-value: 3.829828525920388e-15\n",
      "Sensor8\n",
      "Scipy computed Pearson r: 0.17990980502790646 and p-value: 7.183528149565254e-14\n",
      "Sensor9\n",
      "Scipy computed Pearson r: -0.013269186273813578 and p-value: 0.5840154799936084\n",
      "lifetime\n",
      "Scipy computed Pearson r: 0.9999999999999999 and p-value: 0.0\n"
     ]
    }
   ],
   "source": [
    "#df = pd.read_csv('synchrony_sample.csv')\n",
    "#overall_pearson_r = df.corr().iloc[0,1]\n",
    "#print(f\"Pandas computed Pearson r: {overall_pearson_r}\")\n",
    "# out: Pandas computed Pearson r: 0.2058774513561943\n",
    "\n",
    "for i in range(0, len(combined_df.columns)):\n",
    "\n",
    "    r, p = stats.pearsonr(combined_df.dropna()[combined_df.columns[i]], combined_df.dropna()['lifetime'])\n",
    "    print(combined_df.columns[i])\n",
    "    print(f\"Scipy computed Pearson r: {r} and p-value: {p}\")\n",
    "# out: Scipy computed Pearson r: 0.20587745135619354 and p-value: 3.7902989479463397e-51\n",
    "\n",
    "# Compute rolling window synchrony\n",
    "#f,ax=plt.subplots(figsize=(7,3))\n",
    "#combined_df.rolling(window=30,center=True).median().plot(ax=ax)\n",
    "#ax.set(xlabel='Time',ylabel='Pearson r')\n",
    "#ax.set(title=f\"Overall Pearson r = {np.round(overall_pearson_r,2)}\");"
   ]
  },
  {
   "cell_type": "markdown",
   "metadata": {},
   "source": [
    "# 6) Decomposition of the time series"
   ]
  },
  {
   "cell_type": "code",
   "execution_count": 27,
   "metadata": {},
   "outputs": [],
   "source": [
    "#### https://towardsdatascience.com/analyzing-time-series-data-in-pandas-be3887fdd621\n",
    "#### Additive model:\n",
    "#### y(t) = Level(t) + Trend(t) + Seasonality(t) + Noise(t)\n",
    "#### Multiplicative model:\n",
    "#### y(t) = Level(t) * Trend(t) * Seasonality(t) *Noise(t)"
   ]
  },
  {
   "cell_type": "code",
   "execution_count": 28,
   "metadata": {},
   "outputs": [
    {
     "data": {
      "image/png": "[encoded data removed]",
      "text/plain": [
       "<Figure size 432x288 with 4 Axes>"
      ]
     },
     "metadata": {
      "needs_background": "light"
     },
     "output_type": "display_data"
    }
   ],
   "source": [
    "decomposition = sm.tsa.seasonal_decompose(combined_df['Sensor42'], model='additive')\n",
    "fig = decomposition.plot()"
   ]
  },
  {
   "cell_type": "code",
   "execution_count": 29,
   "metadata": {},
   "outputs": [
    {
     "name": "stdout",
     "output_type": "stream",
     "text": [
      "Sensor1\n",
      "Scipy computed Pearson r: -0.1013075884092392 and p-value: 2.778806716934798e-05\n",
      "Sensor10\n",
      "Scipy computed Pearson r: -0.5319853878574423 and p-value: 3.387877325786847e-125\n",
      "Sensor11\n",
      "Scipy computed Pearson r: 0.10066355427432888 and p-value: 3.125883495388486e-05\n",
      "Sensor12\n",
      "Scipy computed Pearson r: -0.1622874441518275 and p-value: 1.5737220700183586e-11\n",
      "Sensor13\n",
      "Scipy computed Pearson r: 0.3672401508177652 and p-value: 1.4011521379365367e-55\n",
      "Sensor14\n",
      "Scipy computed Pearson r: 0.2486887087625379 and p-value: 1.8977012118417933e-25\n",
      "Sensor15\n",
      "Scipy computed Pearson r: 0.1908979656857121 and p-value: 1.866215526656729e-15\n",
      "Sensor16\n",
      "Scipy computed Pearson r: 0.12195879974350438 and p-value: 4.393842684178488e-07\n",
      "Sensor17\n",
      "Scipy computed Pearson r: -0.16350190181967594 and p-value: 1.1053933815528989e-11\n",
      "Sensor18\n",
      "Scipy computed Pearson r: 0.23635174442315857 and p-value: 4.4787661348410055e-23\n",
      "Sensor19\n",
      "Scipy computed Pearson r: 0.20654606293508906 and p-value: 6.967765211231042e-18\n",
      "Sensor2\n",
      "Scipy computed Pearson r: -0.23736444673442655 and p-value: 2.893262710996599e-23\n",
      "Sensor20\n",
      "Scipy computed Pearson r: -0.027895092827158702 and p-value: 0.24964438714477108\n",
      "Sensor21\n",
      "Scipy computed Pearson r: -0.34919077227759177 and p-value: 4.5152953053290045e-50\n",
      "Sensor22\n",
      "Scipy computed Pearson r: -0.3908757773080004 and p-value: 2.3982929534618862e-63\n",
      "Sensor23\n",
      "Scipy computed Pearson r: -0.5235420090176862 and p-value: 1.2739592173452186e-120\n",
      "Sensor24\n",
      "Scipy computed Pearson r: 0.3209396057147841 and p-value: 3.797525806941751e-42\n",
      "Sensor25\n",
      "Scipy computed Pearson r: -0.38609908721332664 and p-value: 1.0037837950432903e-61\n",
      "Sensor26\n",
      "Scipy computed Pearson r: 0.3647975847655197 and p-value: 8.182234303878819e-55\n",
      "Sensor27\n",
      "Scipy computed Pearson r: 0.4584177976160533 and p-value: 2.425288871111767e-89\n",
      "Sensor28\n",
      "Scipy computed Pearson r: -0.0023451111941540834 and p-value: 0.9229149117229034\n",
      "Sensor29\n",
      "Scipy computed Pearson r: 0.42701678912307167 and p-value: 1.61762656861115e-76\n",
      "Sensor3\n",
      "Scipy computed Pearson r: 0.24455056318604235 and p-value: 1.22762686807444e-24\n",
      "Sensor30\n",
      "Scipy computed Pearson r: -0.06813780714164688 and p-value: 0.004881816691197505\n",
      "Sensor31\n",
      "Scipy computed Pearson r: -0.03789498894380115 and p-value: 0.11777983356521256\n",
      "Sensor32\n",
      "Scipy computed Pearson r: 0.11535654956704383 and p-value: 1.7906617624835722e-06\n",
      "Sensor33\n",
      "Scipy computed Pearson r: 0.5266423791078962 and p-value: 2.7552848220586764e-122\n",
      "Sensor34\n",
      "Scipy computed Pearson r: -0.39377972367236996 and p-value: 2.403177356249724e-64\n",
      "Sensor37\n",
      "Scipy computed Pearson r: -0.2341346664407211 and p-value: 1.1574670797116612e-22\n",
      "Sensor38\n",
      "Scipy computed Pearson r: 0.1584970649826721 and p-value: 4.6588963409451036e-11\n",
      "Sensor39\n",
      "Scipy computed Pearson r: -0.22219869230972156 and p-value: 1.6243554596122968e-20\n",
      "Sensor4\n",
      "Scipy computed Pearson r: 0.3100684015544143 and p-value: 2.5799146104674678e-39\n",
      "Sensor40\n",
      "Scipy computed Pearson r: 0.2272260682154283 and p-value: 2.0950642109606455e-21\n",
      "Sensor41\n",
      "Scipy computed Pearson r: -0.05281826566415272 and p-value: 0.02919259080560092\n",
      "Sensor42\n",
      "Scipy computed Pearson r: 0.6818468085952698 and p-value: 1.6004242595380853e-233\n",
      "Sensor43\n",
      "Scipy computed Pearson r: 0.12020519489018736 and p-value: 6.428144297013461e-07\n",
      "Sensor44\n",
      "Scipy computed Pearson r: 0.4604621227789524 and p-value: 3.1790930494017126e-90\n",
      "Sensor45\n",
      "Scipy computed Pearson r: -0.25690525462157093 and p-value: 4.1995775282860045e-27\n",
      "Sensor46\n",
      "Scipy computed Pearson r: 0.5243065011608514 and p-value: 4.968256447304507e-121\n",
      "Sensor47\n",
      "Scipy computed Pearson r: 0.1129371656671127 and p-value: 2.940899711343967e-06\n",
      "Sensor48\n",
      "Scipy computed Pearson r: 0.2501036143552908 and p-value: 9.942907934903011e-26\n",
      "Sensor49\n",
      "Scipy computed Pearson r: 0.34383845916959377 and p-value: 1.6604808543944318e-48\n",
      "Sensor5\n",
      "Scipy computed Pearson r: -0.24536868180123209 and p-value: 8.510601147416402e-25\n",
      "Sensor50\n",
      "Scipy computed Pearson r: -0.16039475076040513 and p-value: 2.714586118043396e-11\n",
      "Sensor51\n",
      "Scipy computed Pearson r: 0.10238215066824206 and p-value: 2.279816497056365e-05\n",
      "Sensor52\n",
      "Scipy computed Pearson r: 0.39617842979561607 and p-value: 3.5311010011924694e-65\n",
      "Sensor53\n",
      "Scipy computed Pearson r: 0.3650824705348508 and p-value: 6.665424128919266e-55\n",
      "Sensor6\n",
      "Scipy computed Pearson r: 0.18368749844625684 and p-value: 2.1003930233263483e-14\n",
      "Sensor7\n",
      "Scipy computed Pearson r: 0.2188858001091047 and p-value: 6.0962583163776e-20\n",
      "Sensor8\n",
      "Scipy computed Pearson r: 0.20735561112383907 and p-value: 5.15208788080336e-18\n",
      "Sensor9\n",
      "Scipy computed Pearson r: -0.0336931785614008 and p-value: 0.16434029723397933\n",
      "lifetime\n",
      "Scipy computed Pearson r: 0.9898043709850513 and p-value: 0.0\n"
     ]
    }
   ],
   "source": [
    "for i in range(0, len(combined_df.columns)):\n",
    "    decomposition = sm.tsa.seasonal_decompose(combined_df[combined_df.columns[i]], model='additive', extrapolate_trend='freq')\n",
    "    #decomposition = sm.tsa.seasonal_decompose(combined_df[combined_df.columns[i]], model='multiplicative', extrapolate_trend='freq')\n",
    "    #decomposition = sm.tsa.seasonal_decompose(combined_df['Sensor42'], model='multiplicative')\n",
    "    #fig = decomposition.plot()\n",
    "    r, p = stats.pearsonr(decomposition.trend, combined_df['lifetime'])\n",
    "    print(combined_df.columns[i])\n",
    "    print(f\"Scipy computed Pearson r: {r} and p-value: {p}\")"
   ]
  },
  {
   "cell_type": "code",
   "execution_count": 30,
   "metadata": {},
   "outputs": [
    {
     "name": "stdout",
     "output_type": "stream",
     "text": [
      "1705\n",
      "Scipy computed Pearson r: 0.9898043709850513 and p-value: 0.0\n"
     ]
    }
   ],
   "source": [
    "print(len(combined_df['Sensor42']))\n",
    "#print(len(combined_df['lifetime']))\n",
    "decomposition.trend\n",
    "r, p = stats.pearsonr(decomposition.trend, combined_df['lifetime'])\n",
    "#print(combined_df.columns[i])\n",
    "print(f\"Scipy computed Pearson r: {r} and p-value: {p}\")"
   ]
  },
  {
   "cell_type": "code",
   "execution_count": null,
   "metadata": {},
   "outputs": [],
   "source": [
    "# Save masterfile"
   ]
  },
  {
   "cell_type": "code",
   "execution_count": 34,
   "metadata": {},
   "outputs": [],
   "source": [
    "combined_df.to_excel(\"output.xlsx\")"
   ]
  },
  {
   "cell_type": "code",
   "execution_count": 31,
   "metadata": {},
   "outputs": [],
   "source": [
    "# x) Sensor 42 is chosen as the output variable to describe component lifetime "
   ]
  },
  {
   "cell_type": "code",
   "execution_count": 32,
   "metadata": {},
   "outputs": [],
   "source": [
    "# a) Split data into train, validation, test\n",
    "# a.2) scle data for model\n",
    "# b) apply two different models\n",
    "# c) feature select\n",
    "# d) test"
   ]
  },
  {
   "cell_type": "markdown",
   "metadata": {},
   "source": [
    "# 5) Train/test split"
   ]
  },
  {
   "cell_type": "code",
   "execution_count": 33,
   "metadata": {},
   "outputs": [
    {
     "ename": "NameError",
     "evalue": "name 'X' is not defined",
     "output_type": "error",
     "traceback": [
      "\u001b[0;31m---------------------------------------------------------------------------\u001b[0m",
      "\u001b[0;31mNameError\u001b[0m                                 Traceback (most recent call last)",
      "\u001b[0;32m<ipython-input-33-5ec99d9fbc84>\u001b[0m in \u001b[0;36m<module>\u001b[0;34m\u001b[0m\n\u001b[1;32m      1\u001b[0m \u001b[0;31m#X = series.values\u001b[0m\u001b[0;34m\u001b[0m\u001b[0;34m\u001b[0m\u001b[0;34m\u001b[0m\u001b[0m\n\u001b[0;32m----> 2\u001b[0;31m \u001b[0mtrain_size\u001b[0m \u001b[0;34m=\u001b[0m \u001b[0mint\u001b[0m\u001b[0;34m(\u001b[0m\u001b[0mlen\u001b[0m\u001b[0;34m(\u001b[0m\u001b[0mX\u001b[0m\u001b[0;34m)\u001b[0m \u001b[0;34m*\u001b[0m \u001b[0;36m0.7\u001b[0m\u001b[0;34m)\u001b[0m\u001b[0;34m\u001b[0m\u001b[0;34m\u001b[0m\u001b[0m\n\u001b[0m\u001b[1;32m      3\u001b[0m \u001b[0mtrain\u001b[0m\u001b[0;34m,\u001b[0m \u001b[0mtest\u001b[0m \u001b[0;34m=\u001b[0m \u001b[0mX\u001b[0m\u001b[0;34m[\u001b[0m\u001b[0;36m0\u001b[0m\u001b[0;34m:\u001b[0m\u001b[0mtrain_size\u001b[0m\u001b[0;34m]\u001b[0m\u001b[0;34m,\u001b[0m \u001b[0mX\u001b[0m\u001b[0;34m[\u001b[0m\u001b[0mtrain_size\u001b[0m\u001b[0;34m:\u001b[0m\u001b[0mlen\u001b[0m\u001b[0;34m(\u001b[0m\u001b[0mX\u001b[0m\u001b[0;34m)\u001b[0m\u001b[0;34m]\u001b[0m\u001b[0;34m\u001b[0m\u001b[0;34m\u001b[0m\u001b[0m\n\u001b[1;32m      4\u001b[0m \u001b[0mprint\u001b[0m\u001b[0;34m(\u001b[0m\u001b[0;34m'Observations: %d'\u001b[0m \u001b[0;34m%\u001b[0m \u001b[0;34m(\u001b[0m\u001b[0mlen\u001b[0m\u001b[0;34m(\u001b[0m\u001b[0mX\u001b[0m\u001b[0;34m)\u001b[0m\u001b[0;34m)\u001b[0m\u001b[0;34m)\u001b[0m\u001b[0;34m\u001b[0m\u001b[0;34m\u001b[0m\u001b[0m\n\u001b[1;32m      5\u001b[0m \u001b[0mprint\u001b[0m\u001b[0;34m(\u001b[0m\u001b[0;34m'Training Observations: %d'\u001b[0m \u001b[0;34m%\u001b[0m \u001b[0;34m(\u001b[0m\u001b[0mlen\u001b[0m\u001b[0;34m(\u001b[0m\u001b[0mtrain\u001b[0m\u001b[0;34m)\u001b[0m\u001b[0;34m)\u001b[0m\u001b[0;34m)\u001b[0m\u001b[0;34m\u001b[0m\u001b[0;34m\u001b[0m\u001b[0m\n",
      "\u001b[0;31mNameError\u001b[0m: name 'X' is not defined"
     ]
    }
   ],
   "source": [
    "#X = series.values\n",
    "train_size = int(len(X) * 0.7)\n",
    "train, test = X[0:train_size], X[train_size:len(X)]\n",
    "print('Observations: %d' % (len(X)))\n",
    "print('Training Observations: %d' % (len(train)))\n",
    "print('Testing Observations: %d' % (len(test)))"
   ]
  },
  {
   "cell_type": "code",
   "execution_count": null,
   "metadata": {},
   "outputs": [],
   "source": [
    "class stockTickerDataset(torch.utils.data.Dataset):\n",
    "    \"\"\"This class is the dataset class which is used to load data for training the LSTM \n",
    "    to forecast timeseries data\n",
    "    \"\"\"\n",
    "\n",
    "    def __init__(self, inputs, outputs):\n",
    "        \"\"\"Initialize the class with instance variables\n",
    "        Args:\n",
    "            inputs ([list]): [A list of tuples representing input parameters]\n",
    "            outputs ([list]): [A list of floats for the stock price]\n",
    "        \"\"\"\n",
    "        self.inputs = inputs\n",
    "        self.outputs = outputs\n",
    "    \n",
    "    def __len__(self):\n",
    "        \"\"\"Returns the total number of samples in the dataset\n",
    "        \"\"\"\n",
    "        return len(self.outputs)\n",
    "    \n",
    "    def __getitem__(self, idx):\n",
    "        \"\"\"Given an index, it retrieves the input and output corresponding to that index and returns the same\n",
    "        Args:\n",
    "            idx ([int]): [An integer representing a position in the samples]\n",
    "        \"\"\"\n",
    "        x = torch.FloatTensor(self.inputs[idx])\n",
    "        y = torch.FloatTensor([self.outputs[idx]])\n",
    "        \n",
    "        return (x, y)"
   ]
  },
  {
   "cell_type": "markdown",
   "metadata": {},
   "source": [
    "# Do we need to scale the sensor data somehow?"
   ]
  },
  {
   "cell_type": "code",
   "execution_count": null,
   "metadata": {},
   "outputs": [],
   "source": [
    "#### One method to accomplish this is standardization of the input data which in principle, converts all the input\n",
    "#### parameters to have a mean of 0 and standard deviation of 1."
   ]
  },
  {
   "cell_type": "code",
   "execution_count": null,
   "metadata": {},
   "outputs": [],
   "source": [
    "def standardizeData(X, SS = None, train = False):\n",
    "    \"\"\"Given a list of input features, standardizes them to bring them onto a homogenous scale\n",
    "    Args:\n",
    "        X ([dataframe]): [A dataframe of all the input values]\n",
    "        SS ([object], optional): [A StandardScaler object that holds mean and std of a standardized dataset]. Defaults to None.\n",
    "        train (bool, optional): [If False, means validation set to be loaded and SS needs to be passed to scale it]. Defaults to False.\n",
    "    \"\"\"\n",
    "    if train:\n",
    "        SS = StandardScaler()   \n",
    "        new_X = SS.fit_transform(X)\n",
    "        return (new_X, SS)\n",
    "    else:\n",
    "        new_X = SS.transform(X)\n",
    "        return (new_X, None)"
   ]
  },
  {
   "cell_type": "code",
   "execution_count": null,
   "metadata": {},
   "outputs": [],
   "source": [
    "#### After having split the data into train and validation datasets and subsequently standardized the same, we will\n",
    "#### create pytorch dataloaders in order to load the data and feed it to the pytorch model later on."
   ]
  },
  {
   "cell_type": "code",
   "execution_count": null,
   "metadata": {},
   "outputs": [],
   "source": [
    "def getDL(x, y, params):\n",
    "    \"\"\"Given the inputs, labels and dataloader parameters, returns a pytorch dataloader\n",
    "    Args:\n",
    "        x ([list]): [inputs list]\n",
    "        y ([list]): [target variable list]\n",
    "        params ([dict]): [Parameters pertaining to dataloader eg. batch size]\n",
    "    \"\"\"\n",
    "    training_set = stockTickerDataset(x, y)\n",
    "    training_generator = torch.utils.data.DataLoader(training_set, **params)\n",
    "    return training_generator"
   ]
  }
 ],
 "metadata": {
  "kernelspec": {
   "display_name": "Python 3",
   "language": "python",
   "name": "python3"
  },
  "language_info": {
   "codemirror_mode": {
    "name": "ipython",
    "version": 3
   },
   "file_extension": ".py",
   "mimetype": "text/x-python",
   "name": "python",
   "nbconvert_exporter": "python",
   "pygments_lexer": "ipython3",
   "version": "3.6.10"
  }
 },
 "nbformat": 4,
 "nbformat_minor": 4
}
